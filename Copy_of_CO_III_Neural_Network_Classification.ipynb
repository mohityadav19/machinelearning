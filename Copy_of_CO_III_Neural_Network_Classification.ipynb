{
  "nbformat": 4,
  "nbformat_minor": 0,
  "metadata": {
    "colab": {
      "name": "Copy of CO III  Neural_Network_Classification.ipynb",
      "provenance": [],
      "collapsed_sections": [],
      "include_colab_link": true
    },
    "kernelspec": {
      "name": "python3",
      "display_name": "Python 3"
    },
    "language_info": {
      "name": "python"
    }
  },
  "cells": [
    {
      "cell_type": "markdown",
      "metadata": {
        "id": "view-in-github",
        "colab_type": "text"
      },
      "source": [
        "<a href=\"https://colab.research.google.com/github/mohityadav19/machinelearning/blob/main/Copy_of_CO_III_Neural_Network_Classification.ipynb\" target=\"_parent\"><img src=\"https://colab.research.google.com/assets/colab-badge.svg\" alt=\"Open In Colab\"/></a>"
      ]
    },
    {
      "cell_type": "markdown",
      "metadata": {
        "id": "nhPEM4IUoDKA"
      },
      "source": [
        "# Joint Online Faculty Development programme on Deep Learning (Parallel Architecture) Aug 23 – Sep 3 , 2021\n",
        "\n"
      ]
    },
    {
      "cell_type": "markdown",
      "metadata": {
        "id": "ZpJe0cAaoG98"
      },
      "source": [
        "# Tutorial 3: Neural Network Classification"
      ]
    },
    {
      "cell_type": "markdown",
      "metadata": {
        "id": "dIT7QrK2PwdM"
      },
      "source": [
        "Dataset: [Pima Indian Diabetes Dataset](https://data.world/data-society/pima-indians-diabetes-database#)\n",
        "\n",
        "This dataset is originally from the National Institute of Diabetes and Digestive and Kidney Diseases. The objective is to predict based on diagnostic measurements whether a patient has diabetes.\n",
        "\n",
        "Several constraints were placed on the selection of these instances from a larger database. In particular, all patients here are females at least 21 years old of Pima Indian heritage.\n",
        "\n",
        "Attributes of PIMA dataset:\n",
        "\n",
        "**Pregnancies**: Number of times pregnant\n",
        "\n",
        "**Glucose**: Plasma glucose concentration a 2 hours in an oral glucose tolerance test\n",
        "\n",
        "**BloodPressure**: Diastolic blood pressure (mm Hg)\n",
        "\n",
        "**SkinThickness**: Triceps skin fold thickness (mm)\n",
        "\n",
        "**Insulin**: 2-Hour serum insulin (mu U/ml)\n",
        "\n",
        "**BMI**: Body mass index (weight in kg/(height in m)^2)\n",
        "\n",
        "**DiabetesPedigreeFunction**: Diabetes pedigree function\n",
        "\n",
        "**Age**: Age (years)\n",
        "\n",
        "**Outcome**: Class variable (0 or 1)"
      ]
    },
    {
      "cell_type": "markdown",
      "metadata": {
        "id": "FIAgs3sTY712"
      },
      "source": [
        "**1. Mount the Google Drive**"
      ]
    },
    {
      "cell_type": "code",
      "metadata": {
        "colab": {
          "base_uri": "https://localhost:8080/"
        },
        "id": "CrZg_G5MQ4L5",
        "outputId": "a6d6a05c-d70c-4ec2-9028-70751a565eab"
      },
      "source": [
        "from google.colab import drive\n",
        "drive.mount('/content/drive')"
      ],
      "execution_count": 24,
      "outputs": [
        {
          "output_type": "stream",
          "name": "stdout",
          "text": [
            "Drive already mounted at /content/drive; to attempt to forcibly remount, call drive.mount(\"/content/drive\", force_remount=True).\n"
          ]
        }
      ]
    },
    {
      "cell_type": "markdown",
      "metadata": {
        "id": "CqAhYoWHZAwg"
      },
      "source": [
        "**2. Move to the place where data resides**"
      ]
    },
    {
      "cell_type": "code",
      "metadata": {
        "colab": {
          "base_uri": "https://localhost:8080/"
        },
        "id": "TjgG_3CiP4eQ",
        "outputId": "a945eb35-6ef2-4574-bc51-78c4fcdb1e19"
      },
      "source": [
        "%cd /content/drive/MyDrive"
      ],
      "execution_count": 25,
      "outputs": [
        {
          "output_type": "stream",
          "name": "stdout",
          "text": [
            "/content/drive/MyDrive\n"
          ]
        }
      ]
    },
    {
      "cell_type": "code",
      "source": [
        "!ls"
      ],
      "metadata": {
        "id": "S-KhHH_xATY8",
        "colab": {
          "base_uri": "https://localhost:8080/"
        },
        "outputId": "5ccabaa0-3750-4100-a55e-9b73c6aecb99"
      },
      "execution_count": 26,
      "outputs": [
        {
          "output_type": "stream",
          "name": "stdout",
          "text": [
            " 1574789503546..jpg\n",
            "'8. Sine Bar-converted-converted.pdf'\n",
            "'Bme 2Document from 🇲 🇴 🇭 🇮 🇹  🇰  🇦 🇲 🇦 🇱'\n",
            "'BMEDocument from 🇲 🇴 🇭 🇮 🇹  🇰  🇦 🇲 🇦 🇱'\n",
            " Classroom\n",
            "'Colab Notebooks'\n",
            " Confi_surveyaffidavit_5811215.pdf\n",
            " diabetes.csv\n",
            "'Document from 🇲 🇴 🇭 🇮 🇹  🇰  🇦 🇲 🇦 🇱'\n",
            "'Document from 🇲 🇴 🇭 🇮 🇹  🇰  🇦 🇲 🇦 🇱.pdf'\n",
            "'Getting started.pdf'\n",
            " India-report.pdf\n",
            " Mailer.docx\n",
            " parent_affidavit_5811215.pdf\n",
            " Prathamik_Shikshak_Rulebook_2019.pdf\n",
            " Public-Policy-towards-Natural-Disasters-in-India.pdf\n",
            "'sparsh dos 2 file.txt'\n",
            "'sparsh dos file.txt'\n",
            " student_affidavit_5811215.pdf\n",
            " Supreme_court_Judgment.pdf\n",
            "'Unit 5 - Basic Computer Engineering (1).pdf'\n",
            "'Unit 5 - Basic Computer Engineering.pdf'\n",
            "'Untitled form (1).gform'\n",
            "'Untitled form (2).gform'\n",
            "'Untitled form (3).gform'\n",
            "'Untitled form (4).gform'\n",
            "'Untitled form (5).gform'\n",
            "'Untitled form (6).gform'\n",
            "'Untitled form.gform'\n",
            "'Untitled spreadsheet.gsheet'\n",
            "'WhatsApp vs Telegram..CO-36.gdoc'\n"
          ]
        }
      ]
    },
    {
      "cell_type": "code",
      "source": [
        ""
      ],
      "metadata": {
        "id": "f65jHMx2I_1O"
      },
      "execution_count": null,
      "outputs": []
    },
    {
      "cell_type": "markdown",
      "metadata": {
        "id": "VKvfswsOZLUB"
      },
      "source": [
        "**3. Read the dataset from CSV file**"
      ]
    },
    {
      "cell_type": "code",
      "metadata": {
        "colab": {
          "base_uri": "https://localhost:8080/",
          "height": 363
        },
        "id": "32nNonRSSaQq",
        "outputId": "2ac6f70d-197d-4b93-fea1-337249ab9362"
      },
      "source": [
        "import pandas as pd\n",
        "data = pd.read_csv('diabetes.csv')\n",
        "data.head(10)"
      ],
      "execution_count": 27,
      "outputs": [
        {
          "output_type": "execute_result",
          "data": {
            "text/plain": [
              "   Pregnancies  Glucose  BloodPressure  SkinThickness  Insulin   BMI  \\\n",
              "0            6      148             72             35        0  33.6   \n",
              "1            1       85             66             29        0  26.6   \n",
              "2            8      183             64              0        0  23.3   \n",
              "3            1       89             66             23       94  28.1   \n",
              "4            0      137             40             35      168  43.1   \n",
              "5            5      116             74              0        0  25.6   \n",
              "6            3       78             50             32       88  31.0   \n",
              "7           10      115              0              0        0  35.3   \n",
              "8            2      197             70             45      543  30.5   \n",
              "9            8      125             96              0        0   0.0   \n",
              "\n",
              "   DiabetesPedigreeFunction  Age  Outcome  \n",
              "0                     0.627   50        1  \n",
              "1                     0.351   31        0  \n",
              "2                     0.672   32        1  \n",
              "3                     0.167   21        0  \n",
              "4                     2.288   33        1  \n",
              "5                     0.201   30        0  \n",
              "6                     0.248   26        1  \n",
              "7                     0.134   29        0  \n",
              "8                     0.158   53        1  \n",
              "9                     0.232   54        1  "
            ],
            "text/html": [
              "\n",
              "  <div id=\"df-d92e8386-8eef-484c-aa20-54ee285b7411\">\n",
              "    <div class=\"colab-df-container\">\n",
              "      <div>\n",
              "<style scoped>\n",
              "    .dataframe tbody tr th:only-of-type {\n",
              "        vertical-align: middle;\n",
              "    }\n",
              "\n",
              "    .dataframe tbody tr th {\n",
              "        vertical-align: top;\n",
              "    }\n",
              "\n",
              "    .dataframe thead th {\n",
              "        text-align: right;\n",
              "    }\n",
              "</style>\n",
              "<table border=\"1\" class=\"dataframe\">\n",
              "  <thead>\n",
              "    <tr style=\"text-align: right;\">\n",
              "      <th></th>\n",
              "      <th>Pregnancies</th>\n",
              "      <th>Glucose</th>\n",
              "      <th>BloodPressure</th>\n",
              "      <th>SkinThickness</th>\n",
              "      <th>Insulin</th>\n",
              "      <th>BMI</th>\n",
              "      <th>DiabetesPedigreeFunction</th>\n",
              "      <th>Age</th>\n",
              "      <th>Outcome</th>\n",
              "    </tr>\n",
              "  </thead>\n",
              "  <tbody>\n",
              "    <tr>\n",
              "      <th>0</th>\n",
              "      <td>6</td>\n",
              "      <td>148</td>\n",
              "      <td>72</td>\n",
              "      <td>35</td>\n",
              "      <td>0</td>\n",
              "      <td>33.6</td>\n",
              "      <td>0.627</td>\n",
              "      <td>50</td>\n",
              "      <td>1</td>\n",
              "    </tr>\n",
              "    <tr>\n",
              "      <th>1</th>\n",
              "      <td>1</td>\n",
              "      <td>85</td>\n",
              "      <td>66</td>\n",
              "      <td>29</td>\n",
              "      <td>0</td>\n",
              "      <td>26.6</td>\n",
              "      <td>0.351</td>\n",
              "      <td>31</td>\n",
              "      <td>0</td>\n",
              "    </tr>\n",
              "    <tr>\n",
              "      <th>2</th>\n",
              "      <td>8</td>\n",
              "      <td>183</td>\n",
              "      <td>64</td>\n",
              "      <td>0</td>\n",
              "      <td>0</td>\n",
              "      <td>23.3</td>\n",
              "      <td>0.672</td>\n",
              "      <td>32</td>\n",
              "      <td>1</td>\n",
              "    </tr>\n",
              "    <tr>\n",
              "      <th>3</th>\n",
              "      <td>1</td>\n",
              "      <td>89</td>\n",
              "      <td>66</td>\n",
              "      <td>23</td>\n",
              "      <td>94</td>\n",
              "      <td>28.1</td>\n",
              "      <td>0.167</td>\n",
              "      <td>21</td>\n",
              "      <td>0</td>\n",
              "    </tr>\n",
              "    <tr>\n",
              "      <th>4</th>\n",
              "      <td>0</td>\n",
              "      <td>137</td>\n",
              "      <td>40</td>\n",
              "      <td>35</td>\n",
              "      <td>168</td>\n",
              "      <td>43.1</td>\n",
              "      <td>2.288</td>\n",
              "      <td>33</td>\n",
              "      <td>1</td>\n",
              "    </tr>\n",
              "    <tr>\n",
              "      <th>5</th>\n",
              "      <td>5</td>\n",
              "      <td>116</td>\n",
              "      <td>74</td>\n",
              "      <td>0</td>\n",
              "      <td>0</td>\n",
              "      <td>25.6</td>\n",
              "      <td>0.201</td>\n",
              "      <td>30</td>\n",
              "      <td>0</td>\n",
              "    </tr>\n",
              "    <tr>\n",
              "      <th>6</th>\n",
              "      <td>3</td>\n",
              "      <td>78</td>\n",
              "      <td>50</td>\n",
              "      <td>32</td>\n",
              "      <td>88</td>\n",
              "      <td>31.0</td>\n",
              "      <td>0.248</td>\n",
              "      <td>26</td>\n",
              "      <td>1</td>\n",
              "    </tr>\n",
              "    <tr>\n",
              "      <th>7</th>\n",
              "      <td>10</td>\n",
              "      <td>115</td>\n",
              "      <td>0</td>\n",
              "      <td>0</td>\n",
              "      <td>0</td>\n",
              "      <td>35.3</td>\n",
              "      <td>0.134</td>\n",
              "      <td>29</td>\n",
              "      <td>0</td>\n",
              "    </tr>\n",
              "    <tr>\n",
              "      <th>8</th>\n",
              "      <td>2</td>\n",
              "      <td>197</td>\n",
              "      <td>70</td>\n",
              "      <td>45</td>\n",
              "      <td>543</td>\n",
              "      <td>30.5</td>\n",
              "      <td>0.158</td>\n",
              "      <td>53</td>\n",
              "      <td>1</td>\n",
              "    </tr>\n",
              "    <tr>\n",
              "      <th>9</th>\n",
              "      <td>8</td>\n",
              "      <td>125</td>\n",
              "      <td>96</td>\n",
              "      <td>0</td>\n",
              "      <td>0</td>\n",
              "      <td>0.0</td>\n",
              "      <td>0.232</td>\n",
              "      <td>54</td>\n",
              "      <td>1</td>\n",
              "    </tr>\n",
              "  </tbody>\n",
              "</table>\n",
              "</div>\n",
              "      <button class=\"colab-df-convert\" onclick=\"convertToInteractive('df-d92e8386-8eef-484c-aa20-54ee285b7411')\"\n",
              "              title=\"Convert this dataframe to an interactive table.\"\n",
              "              style=\"display:none;\">\n",
              "        \n",
              "  <svg xmlns=\"http://www.w3.org/2000/svg\" height=\"24px\"viewBox=\"0 0 24 24\"\n",
              "       width=\"24px\">\n",
              "    <path d=\"M0 0h24v24H0V0z\" fill=\"none\"/>\n",
              "    <path d=\"M18.56 5.44l.94 2.06.94-2.06 2.06-.94-2.06-.94-.94-2.06-.94 2.06-2.06.94zm-11 1L8.5 8.5l.94-2.06 2.06-.94-2.06-.94L8.5 2.5l-.94 2.06-2.06.94zm10 10l.94 2.06.94-2.06 2.06-.94-2.06-.94-.94-2.06-.94 2.06-2.06.94z\"/><path d=\"M17.41 7.96l-1.37-1.37c-.4-.4-.92-.59-1.43-.59-.52 0-1.04.2-1.43.59L10.3 9.45l-7.72 7.72c-.78.78-.78 2.05 0 2.83L4 21.41c.39.39.9.59 1.41.59.51 0 1.02-.2 1.41-.59l7.78-7.78 2.81-2.81c.8-.78.8-2.07 0-2.86zM5.41 20L4 18.59l7.72-7.72 1.47 1.35L5.41 20z\"/>\n",
              "  </svg>\n",
              "      </button>\n",
              "      \n",
              "  <style>\n",
              "    .colab-df-container {\n",
              "      display:flex;\n",
              "      flex-wrap:wrap;\n",
              "      gap: 12px;\n",
              "    }\n",
              "\n",
              "    .colab-df-convert {\n",
              "      background-color: #E8F0FE;\n",
              "      border: none;\n",
              "      border-radius: 50%;\n",
              "      cursor: pointer;\n",
              "      display: none;\n",
              "      fill: #1967D2;\n",
              "      height: 32px;\n",
              "      padding: 0 0 0 0;\n",
              "      width: 32px;\n",
              "    }\n",
              "\n",
              "    .colab-df-convert:hover {\n",
              "      background-color: #E2EBFA;\n",
              "      box-shadow: 0px 1px 2px rgba(60, 64, 67, 0.3), 0px 1px 3px 1px rgba(60, 64, 67, 0.15);\n",
              "      fill: #174EA6;\n",
              "    }\n",
              "\n",
              "    [theme=dark] .colab-df-convert {\n",
              "      background-color: #3B4455;\n",
              "      fill: #D2E3FC;\n",
              "    }\n",
              "\n",
              "    [theme=dark] .colab-df-convert:hover {\n",
              "      background-color: #434B5C;\n",
              "      box-shadow: 0px 1px 3px 1px rgba(0, 0, 0, 0.15);\n",
              "      filter: drop-shadow(0px 1px 2px rgba(0, 0, 0, 0.3));\n",
              "      fill: #FFFFFF;\n",
              "    }\n",
              "  </style>\n",
              "\n",
              "      <script>\n",
              "        const buttonEl =\n",
              "          document.querySelector('#df-d92e8386-8eef-484c-aa20-54ee285b7411 button.colab-df-convert');\n",
              "        buttonEl.style.display =\n",
              "          google.colab.kernel.accessAllowed ? 'block' : 'none';\n",
              "\n",
              "        async function convertToInteractive(key) {\n",
              "          const element = document.querySelector('#df-d92e8386-8eef-484c-aa20-54ee285b7411');\n",
              "          const dataTable =\n",
              "            await google.colab.kernel.invokeFunction('convertToInteractive',\n",
              "                                                     [key], {});\n",
              "          if (!dataTable) return;\n",
              "\n",
              "          const docLinkHtml = 'Like what you see? Visit the ' +\n",
              "            '<a target=\"_blank\" href=https://colab.research.google.com/notebooks/data_table.ipynb>data table notebook</a>'\n",
              "            + ' to learn more about interactive tables.';\n",
              "          element.innerHTML = '';\n",
              "          dataTable['output_type'] = 'display_data';\n",
              "          await google.colab.output.renderOutput(dataTable, element);\n",
              "          const docLink = document.createElement('div');\n",
              "          docLink.innerHTML = docLinkHtml;\n",
              "          element.appendChild(docLink);\n",
              "        }\n",
              "      </script>\n",
              "    </div>\n",
              "  </div>\n",
              "  "
            ]
          },
          "metadata": {},
          "execution_count": 27
        }
      ]
    },
    {
      "cell_type": "code",
      "metadata": {
        "colab": {
          "base_uri": "https://localhost:8080/"
        },
        "id": "ZrslDLESShr7",
        "outputId": "791c3d13-f6ca-4f15-cffe-27f62fbec8e6"
      },
      "source": [
        "data.columns"
      ],
      "execution_count": null,
      "outputs": [
        {
          "output_type": "execute_result",
          "data": {
            "text/plain": [
              "Index(['Pregnancies', 'Glucose', 'BloodPressure', 'SkinThickness', 'Insulin',\n",
              "       'BMI', 'DiabetesPedigreeFunction', 'Age', 'Outcome'],\n",
              "      dtype='object')"
            ]
          },
          "metadata": {},
          "execution_count": 11
        }
      ]
    },
    {
      "cell_type": "code",
      "metadata": {
        "colab": {
          "base_uri": "https://localhost:8080/"
        },
        "id": "BLElehZ-Skgq",
        "outputId": "e4306667-e0ec-4811-b2ec-b51cfe4dfaea"
      },
      "source": [
        "data.values"
      ],
      "execution_count": 28,
      "outputs": [
        {
          "output_type": "execute_result",
          "data": {
            "text/plain": [
              "array([[  6.   , 148.   ,  72.   , ...,   0.627,  50.   ,   1.   ],\n",
              "       [  1.   ,  85.   ,  66.   , ...,   0.351,  31.   ,   0.   ],\n",
              "       [  8.   , 183.   ,  64.   , ...,   0.672,  32.   ,   1.   ],\n",
              "       ...,\n",
              "       [  5.   , 121.   ,  72.   , ...,   0.245,  30.   ,   0.   ],\n",
              "       [  1.   , 126.   ,  60.   , ...,   0.349,  47.   ,   1.   ],\n",
              "       [  1.   ,  93.   ,  70.   , ...,   0.315,  23.   ,   0.   ]])"
            ]
          },
          "metadata": {},
          "execution_count": 28
        }
      ]
    },
    {
      "cell_type": "markdown",
      "metadata": {
        "id": "2HnZxGc4ZQlf"
      },
      "source": [
        "**4. Store the data into input feature and label variables**"
      ]
    },
    {
      "cell_type": "code",
      "metadata": {
        "colab": {
          "base_uri": "https://localhost:8080/"
        },
        "id": "IPfA5BF0Sm4R",
        "outputId": "e1140e3f-7f9a-400b-ea4c-a1f9d82379ff"
      },
      "source": [
        "dataset= data.values\n",
        "X = dataset[:,0:8]\n",
        "Y = dataset[:,8]\n",
        "print(X)\n",
        "print(Y)"
      ],
      "execution_count": 29,
      "outputs": [
        {
          "output_type": "stream",
          "name": "stdout",
          "text": [
            "[[  6.    148.     72.    ...  33.6     0.627  50.   ]\n",
            " [  1.     85.     66.    ...  26.6     0.351  31.   ]\n",
            " [  8.    183.     64.    ...  23.3     0.672  32.   ]\n",
            " ...\n",
            " [  5.    121.     72.    ...  26.2     0.245  30.   ]\n",
            " [  1.    126.     60.    ...  30.1     0.349  47.   ]\n",
            " [  1.     93.     70.    ...  30.4     0.315  23.   ]]\n",
            "[1. 0. 1. 0. 1. 0. 1. 0. 1. 1. 0. 1. 0. 1. 1. 1. 1. 1. 0. 1. 0. 0. 1. 1.\n",
            " 1. 1. 1. 0. 0. 0. 0. 1. 0. 0. 0. 0. 0. 1. 1. 1. 0. 0. 0. 1. 0. 1. 0. 0.\n",
            " 1. 0. 0. 0. 0. 1. 0. 0. 1. 0. 0. 0. 0. 1. 0. 0. 1. 0. 1. 0. 0. 0. 1. 0.\n",
            " 1. 0. 0. 0. 0. 0. 1. 0. 0. 0. 0. 0. 1. 0. 0. 0. 1. 0. 0. 0. 0. 1. 0. 0.\n",
            " 0. 0. 0. 1. 1. 0. 0. 0. 0. 0. 0. 0. 0. 1. 1. 1. 0. 0. 1. 1. 1. 0. 0. 0.\n",
            " 1. 0. 0. 0. 1. 1. 0. 0. 1. 1. 1. 1. 1. 0. 0. 0. 0. 0. 0. 0. 0. 0. 0. 1.\n",
            " 0. 0. 0. 0. 0. 0. 0. 0. 1. 0. 1. 1. 0. 0. 0. 1. 0. 0. 0. 0. 1. 1. 0. 0.\n",
            " 0. 0. 1. 1. 0. 0. 0. 1. 0. 1. 0. 1. 0. 0. 0. 0. 0. 1. 1. 1. 1. 1. 0. 0.\n",
            " 1. 1. 0. 1. 0. 1. 1. 1. 0. 0. 0. 0. 0. 0. 1. 1. 0. 1. 0. 0. 0. 1. 1. 1.\n",
            " 1. 0. 1. 1. 1. 1. 0. 0. 0. 0. 0. 1. 0. 0. 1. 1. 0. 0. 0. 1. 1. 1. 1. 0.\n",
            " 0. 0. 1. 1. 0. 1. 0. 0. 0. 0. 0. 0. 0. 0. 1. 1. 0. 0. 0. 1. 0. 1. 0. 0.\n",
            " 1. 0. 1. 0. 0. 1. 1. 0. 0. 0. 0. 0. 1. 0. 0. 0. 1. 0. 0. 1. 1. 0. 0. 1.\n",
            " 0. 0. 0. 1. 1. 1. 0. 0. 1. 0. 1. 0. 1. 1. 0. 1. 0. 0. 1. 0. 1. 1. 0. 0.\n",
            " 1. 0. 1. 0. 0. 1. 0. 1. 0. 1. 1. 1. 0. 0. 1. 0. 1. 0. 0. 0. 1. 0. 0. 0.\n",
            " 0. 1. 1. 1. 0. 0. 0. 0. 0. 0. 0. 0. 0. 1. 0. 0. 0. 0. 0. 1. 1. 1. 0. 1.\n",
            " 1. 0. 0. 1. 0. 0. 1. 0. 0. 1. 1. 0. 0. 0. 0. 1. 0. 0. 1. 0. 0. 0. 0. 0.\n",
            " 0. 0. 1. 1. 1. 0. 0. 1. 0. 0. 1. 0. 0. 1. 0. 1. 1. 0. 1. 0. 1. 0. 1. 0.\n",
            " 1. 1. 0. 0. 0. 0. 1. 1. 0. 1. 0. 1. 0. 0. 0. 0. 1. 1. 0. 1. 0. 1. 0. 0.\n",
            " 0. 0. 0. 1. 0. 0. 0. 0. 1. 0. 0. 1. 1. 1. 0. 0. 1. 0. 0. 1. 0. 0. 0. 1.\n",
            " 0. 0. 1. 0. 0. 0. 0. 0. 0. 0. 0. 0. 1. 0. 0. 0. 0. 0. 0. 0. 1. 0. 0. 0.\n",
            " 1. 0. 0. 0. 1. 1. 0. 0. 0. 0. 0. 0. 0. 1. 0. 0. 0. 0. 1. 0. 0. 0. 1. 0.\n",
            " 0. 0. 1. 0. 0. 0. 1. 0. 0. 0. 0. 1. 1. 0. 0. 0. 0. 0. 0. 1. 0. 0. 0. 0.\n",
            " 0. 0. 0. 0. 0. 0. 0. 1. 0. 0. 0. 1. 1. 1. 1. 0. 0. 1. 1. 0. 0. 0. 0. 0.\n",
            " 0. 0. 0. 0. 0. 0. 0. 0. 1. 1. 0. 0. 0. 0. 0. 0. 0. 1. 0. 0. 0. 0. 0. 0.\n",
            " 0. 1. 0. 1. 1. 0. 0. 0. 1. 0. 1. 0. 1. 0. 1. 0. 1. 0. 0. 1. 0. 0. 1. 0.\n",
            " 0. 0. 0. 1. 1. 0. 1. 0. 0. 0. 0. 1. 1. 0. 1. 0. 0. 0. 1. 1. 0. 0. 0. 0.\n",
            " 0. 0. 0. 0. 0. 0. 1. 0. 0. 0. 0. 1. 0. 0. 1. 0. 0. 0. 1. 0. 0. 0. 1. 1.\n",
            " 1. 0. 0. 0. 0. 0. 0. 1. 0. 0. 0. 1. 0. 1. 1. 1. 1. 0. 1. 1. 0. 0. 0. 0.\n",
            " 0. 0. 0. 1. 1. 0. 1. 0. 0. 1. 0. 1. 0. 0. 0. 0. 0. 1. 0. 1. 0. 1. 0. 1.\n",
            " 1. 0. 0. 0. 0. 1. 1. 0. 0. 0. 1. 0. 1. 1. 0. 0. 1. 0. 0. 1. 1. 0. 0. 1.\n",
            " 0. 0. 1. 0. 0. 0. 0. 0. 0. 0. 1. 1. 1. 0. 0. 0. 0. 0. 0. 1. 1. 0. 0. 1.\n",
            " 0. 0. 1. 0. 1. 1. 1. 0. 0. 1. 1. 1. 0. 1. 0. 1. 0. 1. 0. 0. 0. 0. 1. 0.]\n"
          ]
        }
      ]
    },
    {
      "cell_type": "markdown",
      "metadata": {
        "id": "OdPZerNUZV4Q"
      },
      "source": [
        "**5. Data Normalization**"
      ]
    },
    {
      "cell_type": "code",
      "metadata": {
        "colab": {
          "base_uri": "https://localhost:8080/"
        },
        "id": "pM4g3T1fWri-",
        "outputId": "8b3b02c0-1a9c-4b55-8416-a83ec5ad2959"
      },
      "source": [
        "from sklearn import preprocessing\n",
        "min_max_scaler = preprocessing.MinMaxScaler()\n",
        "X_scale = min_max_scaler.fit_transform(X)\n",
        "X_scale"
      ],
      "execution_count": 30,
      "outputs": [
        {
          "output_type": "execute_result",
          "data": {
            "text/plain": [
              "array([[0.35294118, 0.74371859, 0.59016393, ..., 0.50074516, 0.23441503,\n",
              "        0.48333333],\n",
              "       [0.05882353, 0.42713568, 0.54098361, ..., 0.39642325, 0.11656704,\n",
              "        0.16666667],\n",
              "       [0.47058824, 0.91959799, 0.52459016, ..., 0.34724292, 0.25362938,\n",
              "        0.18333333],\n",
              "       ...,\n",
              "       [0.29411765, 0.6080402 , 0.59016393, ..., 0.390462  , 0.07130658,\n",
              "        0.15      ],\n",
              "       [0.05882353, 0.63316583, 0.49180328, ..., 0.4485842 , 0.11571307,\n",
              "        0.43333333],\n",
              "       [0.05882353, 0.46733668, 0.57377049, ..., 0.45305514, 0.10119556,\n",
              "        0.03333333]])"
            ]
          },
          "metadata": {},
          "execution_count": 30
        }
      ]
    },
    {
      "cell_type": "markdown",
      "metadata": {
        "id": "n1B5x8C0ZY-e"
      },
      "source": [
        "**6. One-hot vector conversion**"
      ]
    },
    {
      "cell_type": "code",
      "metadata": {
        "colab": {
          "base_uri": "https://localhost:8080/"
        },
        "id": "IWPUAnA-XNd8",
        "outputId": "92374505-39ea-4930-a34e-ba3327f29ba9"
      },
      "source": [
        "from keras.utils import np_utils\n",
        "encoded_y = np_utils.to_categorical(Y)\n",
        "encoded_y"
      ],
      "execution_count": 31,
      "outputs": [
        {
          "output_type": "execute_result",
          "data": {
            "text/plain": [
              "array([[0., 1.],\n",
              "       [1., 0.],\n",
              "       [0., 1.],\n",
              "       ...,\n",
              "       [1., 0.],\n",
              "       [0., 1.],\n",
              "       [1., 0.]], dtype=float32)"
            ]
          },
          "metadata": {},
          "execution_count": 31
        }
      ]
    },
    {
      "cell_type": "markdown",
      "metadata": {
        "id": "IeJWmMxjZbgo"
      },
      "source": [
        "**7. Split the dataset into training, testing and validation set**"
      ]
    },
    {
      "cell_type": "code",
      "metadata": {
        "colab": {
          "base_uri": "https://localhost:8080/"
        },
        "id": "3BqXnV1FXYIV",
        "outputId": "a297e17c-91f7-44e1-f1fa-eb8dd5a8aec5"
      },
      "source": [
        "from sklearn.model_selection import train_test_split\n",
        "X_training, X_testing, Y_training, Y_testing = train_test_split(X_scale, encoded_y, test_size=0.5, random_state=20)\n",
        "X_training, X_valid, Y_training, Y_valid = train_test_split(X_training, Y_training, test_size=0.5, random_state=20)\n",
        "print(len(X_training))\n",
        "print(len(X_testing))\n",
        "print(len(X_valid))"
      ],
      "execution_count": 39,
      "outputs": [
        {
          "output_type": "stream",
          "name": "stdout",
          "text": [
            "192\n",
            "384\n",
            "192\n"
          ]
        }
      ]
    },
    {
      "cell_type": "code",
      "metadata": {
        "id": "xhDZ8yPhXrs0",
        "colab": {
          "base_uri": "https://localhost:8080/"
        },
        "outputId": "767c547a-591f-4382-84d3-427af6df72a3"
      },
      "source": [
        "hist = model.fit(X_training, Y_training,batch_size=4,  epochs=1000, validation_data=(X_valid,Y_valid))"
      ],
      "execution_count": 33,
      "outputs": [
        {
          "output_type": "stream",
          "name": "stdout",
          "text": [
            "Epoch 1/200\n",
            "3/3 [==============================] - 0s 163ms/step - loss: 2.3839 - accuracy: 0.6146 - val_loss: 1.7983 - val_accuracy: 0.6094\n",
            "Epoch 2/200\n",
            "3/3 [==============================] - 0s 13ms/step - loss: 2.4316 - accuracy: 0.5990 - val_loss: 1.6992 - val_accuracy: 0.6094\n",
            "Epoch 3/200\n",
            "3/3 [==============================] - 0s 22ms/step - loss: 2.3728 - accuracy: 0.5990 - val_loss: 1.7626 - val_accuracy: 0.5938\n",
            "Epoch 4/200\n",
            "3/3 [==============================] - 0s 21ms/step - loss: 2.3737 - accuracy: 0.6042 - val_loss: 1.7620 - val_accuracy: 0.5938\n",
            "Epoch 5/200\n",
            "3/3 [==============================] - 0s 21ms/step - loss: 2.4048 - accuracy: 0.5990 - val_loss: 1.8120 - val_accuracy: 0.6146\n",
            "Epoch 6/200\n",
            "3/3 [==============================] - 0s 13ms/step - loss: 2.3712 - accuracy: 0.6094 - val_loss: 1.9251 - val_accuracy: 0.6198\n",
            "Epoch 7/200\n",
            "3/3 [==============================] - 0s 14ms/step - loss: 2.4761 - accuracy: 0.6250 - val_loss: 2.2366 - val_accuracy: 0.6198\n",
            "Epoch 8/200\n",
            "3/3 [==============================] - 0s 22ms/step - loss: 2.3868 - accuracy: 0.6510 - val_loss: 2.0780 - val_accuracy: 0.6406\n",
            "Epoch 9/200\n",
            "3/3 [==============================] - 0s 22ms/step - loss: 2.2881 - accuracy: 0.6510 - val_loss: 1.9905 - val_accuracy: 0.6250\n",
            "Epoch 10/200\n",
            "3/3 [==============================] - 0s 22ms/step - loss: 1.9387 - accuracy: 0.6406 - val_loss: 1.7456 - val_accuracy: 0.6250\n",
            "Epoch 11/200\n",
            "3/3 [==============================] - 0s 22ms/step - loss: 1.7945 - accuracy: 0.6406 - val_loss: 1.5949 - val_accuracy: 0.6250\n",
            "Epoch 12/200\n",
            "3/3 [==============================] - 0s 14ms/step - loss: 1.4778 - accuracy: 0.6406 - val_loss: 1.6311 - val_accuracy: 0.6250\n",
            "Epoch 13/200\n",
            "3/3 [==============================] - 0s 13ms/step - loss: 1.6733 - accuracy: 0.6406 - val_loss: 1.6249 - val_accuracy: 0.6198\n",
            "Epoch 14/200\n",
            "3/3 [==============================] - 0s 23ms/step - loss: 1.6717 - accuracy: 0.6458 - val_loss: 1.5423 - val_accuracy: 0.6198\n",
            "Epoch 15/200\n",
            "3/3 [==============================] - 0s 22ms/step - loss: 1.6025 - accuracy: 0.6458 - val_loss: 1.4007 - val_accuracy: 0.6250\n",
            "Epoch 16/200\n",
            "3/3 [==============================] - 0s 14ms/step - loss: 1.6682 - accuracy: 0.6562 - val_loss: 1.3964 - val_accuracy: 0.6250\n",
            "Epoch 17/200\n",
            "3/3 [==============================] - 0s 29ms/step - loss: 1.6770 - accuracy: 0.6562 - val_loss: 1.3943 - val_accuracy: 0.6250\n",
            "Epoch 18/200\n",
            "3/3 [==============================] - 0s 23ms/step - loss: 1.6670 - accuracy: 0.6510 - val_loss: 1.3933 - val_accuracy: 0.6250\n",
            "Epoch 19/200\n",
            "3/3 [==============================] - 0s 21ms/step - loss: 1.6563 - accuracy: 0.6510 - val_loss: 1.3931 - val_accuracy: 0.6302\n",
            "Epoch 20/200\n",
            "3/3 [==============================] - 0s 25ms/step - loss: 1.6497 - accuracy: 0.6510 - val_loss: 1.4775 - val_accuracy: 0.6302\n",
            "Epoch 21/200\n",
            "3/3 [==============================] - 0s 22ms/step - loss: 1.6455 - accuracy: 0.6510 - val_loss: 1.5629 - val_accuracy: 0.6302\n",
            "Epoch 22/200\n",
            "3/3 [==============================] - 0s 13ms/step - loss: 1.7255 - accuracy: 0.6510 - val_loss: 1.5663 - val_accuracy: 0.6302\n",
            "Epoch 23/200\n",
            "3/3 [==============================] - 0s 13ms/step - loss: 1.7517 - accuracy: 0.6510 - val_loss: 1.6199 - val_accuracy: 0.6302\n",
            "Epoch 24/200\n",
            "3/3 [==============================] - 0s 13ms/step - loss: 1.7397 - accuracy: 0.6562 - val_loss: 1.6193 - val_accuracy: 0.6302\n",
            "Epoch 25/200\n",
            "3/3 [==============================] - 0s 24ms/step - loss: 1.7349 - accuracy: 0.6562 - val_loss: 1.7028 - val_accuracy: 0.6302\n",
            "Epoch 26/200\n",
            "3/3 [==============================] - 0s 30ms/step - loss: 1.7329 - accuracy: 0.6562 - val_loss: 1.7023 - val_accuracy: 0.6302\n",
            "Epoch 27/200\n",
            "3/3 [==============================] - 0s 28ms/step - loss: 1.7312 - accuracy: 0.6562 - val_loss: 1.7018 - val_accuracy: 0.6302\n",
            "Epoch 28/200\n",
            "3/3 [==============================] - 0s 27ms/step - loss: 1.7305 - accuracy: 0.6562 - val_loss: 1.6465 - val_accuracy: 0.6302\n",
            "Epoch 29/200\n",
            "3/3 [==============================] - 0s 28ms/step - loss: 1.9196 - accuracy: 0.6354 - val_loss: 1.6838 - val_accuracy: 0.6198\n",
            "Epoch 30/200\n",
            "3/3 [==============================] - 0s 30ms/step - loss: 1.9913 - accuracy: 0.6146 - val_loss: 1.9197 - val_accuracy: 0.5990\n",
            "Epoch 31/200\n",
            "3/3 [==============================] - 0s 24ms/step - loss: 2.1653 - accuracy: 0.5938 - val_loss: 1.9484 - val_accuracy: 0.5990\n",
            "Epoch 32/200\n",
            "3/3 [==============================] - 0s 44ms/step - loss: 2.6192 - accuracy: 0.5677 - val_loss: 1.8123 - val_accuracy: 0.5990\n",
            "Epoch 33/200\n",
            "3/3 [==============================] - 0s 22ms/step - loss: 2.6512 - accuracy: 0.5677 - val_loss: 1.9772 - val_accuracy: 0.6042\n",
            "Epoch 34/200\n",
            "3/3 [==============================] - 0s 34ms/step - loss: 2.5942 - accuracy: 0.5677 - val_loss: 1.9849 - val_accuracy: 0.5885\n",
            "Epoch 35/200\n",
            "3/3 [==============================] - 0s 32ms/step - loss: 2.7284 - accuracy: 0.5573 - val_loss: 2.0573 - val_accuracy: 0.5833\n",
            "Epoch 36/200\n",
            "3/3 [==============================] - 0s 27ms/step - loss: 2.7184 - accuracy: 0.5417 - val_loss: 2.1969 - val_accuracy: 0.5781\n",
            "Epoch 37/200\n",
            "3/3 [==============================] - 0s 14ms/step - loss: 2.7266 - accuracy: 0.5469 - val_loss: 2.1167 - val_accuracy: 0.5781\n",
            "Epoch 38/200\n",
            "3/3 [==============================] - 0s 24ms/step - loss: 2.7398 - accuracy: 0.5417 - val_loss: 2.0367 - val_accuracy: 0.5729\n",
            "Epoch 39/200\n",
            "3/3 [==============================] - 0s 15ms/step - loss: 2.8026 - accuracy: 0.5365 - val_loss: 2.0419 - val_accuracy: 0.5625\n",
            "Epoch 40/200\n",
            "3/3 [==============================] - 0s 14ms/step - loss: 2.8092 - accuracy: 0.5312 - val_loss: 2.0634 - val_accuracy: 0.5625\n",
            "Epoch 41/200\n",
            "3/3 [==============================] - 0s 13ms/step - loss: 2.8290 - accuracy: 0.5312 - val_loss: 2.0535 - val_accuracy: 0.5625\n",
            "Epoch 42/200\n",
            "3/3 [==============================] - 0s 24ms/step - loss: 2.8043 - accuracy: 0.5312 - val_loss: 2.0501 - val_accuracy: 0.5625\n",
            "Epoch 43/200\n",
            "3/3 [==============================] - 0s 22ms/step - loss: 2.8007 - accuracy: 0.5312 - val_loss: 1.9944 - val_accuracy: 0.5625\n",
            "Epoch 44/200\n",
            "3/3 [==============================] - 0s 14ms/step - loss: 2.7359 - accuracy: 0.5312 - val_loss: 1.9881 - val_accuracy: 0.5625\n",
            "Epoch 45/200\n",
            "3/3 [==============================] - 0s 17ms/step - loss: 2.7318 - accuracy: 0.5365 - val_loss: 1.9847 - val_accuracy: 0.5625\n",
            "Epoch 46/200\n",
            "3/3 [==============================] - 0s 13ms/step - loss: 2.7293 - accuracy: 0.5365 - val_loss: 1.9823 - val_accuracy: 0.5625\n",
            "Epoch 47/200\n",
            "3/3 [==============================] - 0s 23ms/step - loss: 2.7276 - accuracy: 0.5417 - val_loss: 1.9804 - val_accuracy: 0.5625\n",
            "Epoch 48/200\n",
            "3/3 [==============================] - 0s 22ms/step - loss: 2.7255 - accuracy: 0.5417 - val_loss: 1.9789 - val_accuracy: 0.5677\n",
            "Epoch 49/200\n",
            "3/3 [==============================] - 0s 13ms/step - loss: 2.7242 - accuracy: 0.5417 - val_loss: 1.9777 - val_accuracy: 0.5677\n",
            "Epoch 50/200\n",
            "3/3 [==============================] - 0s 21ms/step - loss: 2.7230 - accuracy: 0.5417 - val_loss: 1.9767 - val_accuracy: 0.5677\n",
            "Epoch 51/200\n",
            "3/3 [==============================] - 0s 22ms/step - loss: 2.7220 - accuracy: 0.5417 - val_loss: 1.9758 - val_accuracy: 0.5677\n",
            "Epoch 52/200\n",
            "3/3 [==============================] - 0s 23ms/step - loss: 2.7209 - accuracy: 0.5417 - val_loss: 1.9750 - val_accuracy: 0.5677\n",
            "Epoch 53/200\n",
            "3/3 [==============================] - 0s 15ms/step - loss: 2.7200 - accuracy: 0.5417 - val_loss: 1.9743 - val_accuracy: 0.5677\n",
            "Epoch 54/200\n",
            "3/3 [==============================] - 0s 21ms/step - loss: 2.7192 - accuracy: 0.5417 - val_loss: 1.9736 - val_accuracy: 0.5677\n",
            "Epoch 55/200\n",
            "3/3 [==============================] - 0s 18ms/step - loss: 2.7186 - accuracy: 0.5417 - val_loss: 1.9730 - val_accuracy: 0.5677\n",
            "Epoch 56/200\n",
            "3/3 [==============================] - 0s 16ms/step - loss: 2.7179 - accuracy: 0.5417 - val_loss: 1.9725 - val_accuracy: 0.5677\n",
            "Epoch 57/200\n",
            "3/3 [==============================] - 0s 15ms/step - loss: 2.7172 - accuracy: 0.5417 - val_loss: 1.9720 - val_accuracy: 0.5677\n",
            "Epoch 58/200\n",
            "3/3 [==============================] - 0s 19ms/step - loss: 2.7166 - accuracy: 0.5417 - val_loss: 1.9715 - val_accuracy: 0.5729\n",
            "Epoch 59/200\n",
            "3/3 [==============================] - 0s 13ms/step - loss: 2.7161 - accuracy: 0.5417 - val_loss: 1.9711 - val_accuracy: 0.5729\n",
            "Epoch 60/200\n",
            "3/3 [==============================] - 0s 14ms/step - loss: 2.7156 - accuracy: 0.5417 - val_loss: 1.9706 - val_accuracy: 0.5729\n",
            "Epoch 61/200\n",
            "3/3 [==============================] - 0s 22ms/step - loss: 2.6309 - accuracy: 0.5469 - val_loss: 1.9702 - val_accuracy: 0.5729\n",
            "Epoch 62/200\n",
            "3/3 [==============================] - 0s 23ms/step - loss: 2.6305 - accuracy: 0.5469 - val_loss: 1.9698 - val_accuracy: 0.5729\n",
            "Epoch 63/200\n",
            "3/3 [==============================] - 0s 13ms/step - loss: 2.6301 - accuracy: 0.5469 - val_loss: 1.9695 - val_accuracy: 0.5729\n",
            "Epoch 64/200\n",
            "3/3 [==============================] - 0s 15ms/step - loss: 2.6295 - accuracy: 0.5469 - val_loss: 1.9692 - val_accuracy: 0.5781\n",
            "Epoch 65/200\n",
            "3/3 [==============================] - 0s 18ms/step - loss: 2.6290 - accuracy: 0.5469 - val_loss: 1.9688 - val_accuracy: 0.5781\n",
            "Epoch 66/200\n",
            "3/3 [==============================] - 0s 18ms/step - loss: 2.6287 - accuracy: 0.5469 - val_loss: 1.9685 - val_accuracy: 0.5781\n",
            "Epoch 67/200\n",
            "3/3 [==============================] - 0s 16ms/step - loss: 2.6281 - accuracy: 0.5469 - val_loss: 1.9682 - val_accuracy: 0.5781\n",
            "Epoch 68/200\n",
            "3/3 [==============================] - 0s 23ms/step - loss: 2.6277 - accuracy: 0.5469 - val_loss: 1.9679 - val_accuracy: 0.5833\n",
            "Epoch 69/200\n",
            "3/3 [==============================] - 0s 22ms/step - loss: 2.6272 - accuracy: 0.5417 - val_loss: 1.9676 - val_accuracy: 0.5833\n",
            "Epoch 70/200\n",
            "3/3 [==============================] - 0s 13ms/step - loss: 2.6268 - accuracy: 0.5417 - val_loss: 1.9674 - val_accuracy: 0.5833\n",
            "Epoch 71/200\n",
            "3/3 [==============================] - 0s 21ms/step - loss: 2.6263 - accuracy: 0.5417 - val_loss: 1.9671 - val_accuracy: 0.5833\n",
            "Epoch 72/200\n",
            "3/3 [==============================] - 0s 14ms/step - loss: 2.6260 - accuracy: 0.5417 - val_loss: 1.9668 - val_accuracy: 0.5885\n",
            "Epoch 73/200\n",
            "3/3 [==============================] - 0s 15ms/step - loss: 2.6255 - accuracy: 0.5417 - val_loss: 1.9665 - val_accuracy: 0.5885\n",
            "Epoch 74/200\n",
            "3/3 [==============================] - 0s 24ms/step - loss: 2.6253 - accuracy: 0.5417 - val_loss: 1.9663 - val_accuracy: 0.5885\n",
            "Epoch 75/200\n",
            "3/3 [==============================] - 0s 16ms/step - loss: 2.6246 - accuracy: 0.5417 - val_loss: 1.9660 - val_accuracy: 0.5885\n",
            "Epoch 76/200\n",
            "3/3 [==============================] - 0s 16ms/step - loss: 2.6243 - accuracy: 0.5417 - val_loss: 1.9658 - val_accuracy: 0.5885\n",
            "Epoch 77/200\n",
            "3/3 [==============================] - 0s 22ms/step - loss: 2.6239 - accuracy: 0.5417 - val_loss: 1.9655 - val_accuracy: 0.5885\n",
            "Epoch 78/200\n",
            "3/3 [==============================] - 0s 14ms/step - loss: 2.6235 - accuracy: 0.5417 - val_loss: 1.9652 - val_accuracy: 0.5833\n",
            "Epoch 79/200\n",
            "3/3 [==============================] - 0s 22ms/step - loss: 2.6231 - accuracy: 0.5469 - val_loss: 1.9650 - val_accuracy: 0.5833\n",
            "Epoch 80/200\n",
            "3/3 [==============================] - 0s 15ms/step - loss: 2.6228 - accuracy: 0.5469 - val_loss: 1.9647 - val_accuracy: 0.5833\n",
            "Epoch 81/200\n",
            "3/3 [==============================] - 0s 23ms/step - loss: 2.6222 - accuracy: 0.5521 - val_loss: 1.9645 - val_accuracy: 0.5885\n",
            "Epoch 82/200\n",
            "3/3 [==============================] - 0s 14ms/step - loss: 2.6218 - accuracy: 0.5521 - val_loss: 1.9643 - val_accuracy: 0.5885\n",
            "Epoch 83/200\n",
            "3/3 [==============================] - 0s 14ms/step - loss: 2.6214 - accuracy: 0.5521 - val_loss: 1.9640 - val_accuracy: 0.5885\n",
            "Epoch 84/200\n",
            "3/3 [==============================] - 0s 16ms/step - loss: 2.6211 - accuracy: 0.5573 - val_loss: 1.9638 - val_accuracy: 0.5885\n",
            "Epoch 85/200\n",
            "3/3 [==============================] - 0s 14ms/step - loss: 2.6206 - accuracy: 0.5573 - val_loss: 1.9636 - val_accuracy: 0.5885\n",
            "Epoch 86/200\n",
            "3/3 [==============================] - 0s 14ms/step - loss: 2.6204 - accuracy: 0.5573 - val_loss: 1.9634 - val_accuracy: 0.5938\n",
            "Epoch 87/200\n",
            "3/3 [==============================] - 0s 15ms/step - loss: 2.6201 - accuracy: 0.5573 - val_loss: 1.9632 - val_accuracy: 0.5938\n",
            "Epoch 88/200\n",
            "3/3 [==============================] - 0s 13ms/step - loss: 2.6198 - accuracy: 0.5573 - val_loss: 1.9630 - val_accuracy: 0.5938\n",
            "Epoch 89/200\n",
            "3/3 [==============================] - 0s 13ms/step - loss: 2.6196 - accuracy: 0.5573 - val_loss: 1.9628 - val_accuracy: 0.5938\n",
            "Epoch 90/200\n",
            "3/3 [==============================] - 0s 22ms/step - loss: 2.6193 - accuracy: 0.5573 - val_loss: 1.9626 - val_accuracy: 0.5938\n",
            "Epoch 91/200\n",
            "3/3 [==============================] - 0s 14ms/step - loss: 2.6190 - accuracy: 0.5573 - val_loss: 1.9624 - val_accuracy: 0.5938\n",
            "Epoch 92/200\n",
            "3/3 [==============================] - 0s 22ms/step - loss: 2.6187 - accuracy: 0.5573 - val_loss: 1.9622 - val_accuracy: 0.5938\n",
            "Epoch 93/200\n",
            "3/3 [==============================] - 0s 23ms/step - loss: 2.5345 - accuracy: 0.5573 - val_loss: 1.9620 - val_accuracy: 0.5938\n",
            "Epoch 94/200\n",
            "3/3 [==============================] - 0s 22ms/step - loss: 2.5343 - accuracy: 0.5573 - val_loss: 1.9619 - val_accuracy: 0.5938\n",
            "Epoch 95/200\n",
            "3/3 [==============================] - 0s 14ms/step - loss: 2.5340 - accuracy: 0.5573 - val_loss: 1.9617 - val_accuracy: 0.5938\n",
            "Epoch 96/200\n",
            "3/3 [==============================] - 0s 22ms/step - loss: 2.5338 - accuracy: 0.5573 - val_loss: 1.9615 - val_accuracy: 0.5938\n",
            "Epoch 97/200\n",
            "3/3 [==============================] - 0s 14ms/step - loss: 2.5336 - accuracy: 0.5573 - val_loss: 1.9613 - val_accuracy: 0.5938\n",
            "Epoch 98/200\n",
            "3/3 [==============================] - 0s 14ms/step - loss: 2.5333 - accuracy: 0.5573 - val_loss: 1.9612 - val_accuracy: 0.5938\n",
            "Epoch 99/200\n",
            "3/3 [==============================] - 0s 15ms/step - loss: 2.5330 - accuracy: 0.5573 - val_loss: 1.9610 - val_accuracy: 0.5938\n",
            "Epoch 100/200\n",
            "3/3 [==============================] - 0s 23ms/step - loss: 2.5328 - accuracy: 0.5573 - val_loss: 1.9608 - val_accuracy: 0.5938\n",
            "Epoch 101/200\n",
            "3/3 [==============================] - 0s 15ms/step - loss: 2.5325 - accuracy: 0.5573 - val_loss: 1.9607 - val_accuracy: 0.5938\n",
            "Epoch 102/200\n",
            "3/3 [==============================] - 0s 13ms/step - loss: 2.5323 - accuracy: 0.5573 - val_loss: 1.9605 - val_accuracy: 0.5938\n",
            "Epoch 103/200\n",
            "3/3 [==============================] - 0s 23ms/step - loss: 2.5321 - accuracy: 0.5573 - val_loss: 1.9603 - val_accuracy: 0.5938\n",
            "Epoch 104/200\n",
            "3/3 [==============================] - 0s 19ms/step - loss: 2.5318 - accuracy: 0.5573 - val_loss: 1.8762 - val_accuracy: 0.5938\n",
            "Epoch 105/200\n",
            "3/3 [==============================] - 0s 14ms/step - loss: 2.5316 - accuracy: 0.5573 - val_loss: 1.8760 - val_accuracy: 0.5938\n",
            "Epoch 106/200\n",
            "3/3 [==============================] - 0s 22ms/step - loss: 2.5313 - accuracy: 0.5573 - val_loss: 1.8759 - val_accuracy: 0.5938\n",
            "Epoch 107/200\n",
            "3/3 [==============================] - 0s 13ms/step - loss: 2.5311 - accuracy: 0.5573 - val_loss: 1.8757 - val_accuracy: 0.5938\n",
            "Epoch 108/200\n",
            "3/3 [==============================] - 0s 14ms/step - loss: 2.5309 - accuracy: 0.5573 - val_loss: 1.8755 - val_accuracy: 0.5938\n",
            "Epoch 109/200\n",
            "3/3 [==============================] - 0s 13ms/step - loss: 2.5306 - accuracy: 0.5573 - val_loss: 1.8754 - val_accuracy: 0.5938\n",
            "Epoch 110/200\n",
            "3/3 [==============================] - 0s 14ms/step - loss: 2.5304 - accuracy: 0.5625 - val_loss: 1.8752 - val_accuracy: 0.5938\n",
            "Epoch 111/200\n",
            "3/3 [==============================] - 0s 13ms/step - loss: 2.5302 - accuracy: 0.5625 - val_loss: 1.8750 - val_accuracy: 0.5990\n",
            "Epoch 112/200\n",
            "3/3 [==============================] - 0s 13ms/step - loss: 2.5299 - accuracy: 0.5625 - val_loss: 1.8749 - val_accuracy: 0.5990\n",
            "Epoch 113/200\n",
            "3/3 [==============================] - 0s 13ms/step - loss: 2.5296 - accuracy: 0.5625 - val_loss: 1.8747 - val_accuracy: 0.5990\n",
            "Epoch 114/200\n",
            "3/3 [==============================] - 0s 14ms/step - loss: 2.5294 - accuracy: 0.5625 - val_loss: 1.8746 - val_accuracy: 0.5990\n",
            "Epoch 115/200\n",
            "3/3 [==============================] - 0s 23ms/step - loss: 2.5292 - accuracy: 0.5625 - val_loss: 1.8744 - val_accuracy: 0.5990\n",
            "Epoch 116/200\n",
            "3/3 [==============================] - 0s 23ms/step - loss: 2.5290 - accuracy: 0.5625 - val_loss: 1.8743 - val_accuracy: 0.5990\n",
            "Epoch 117/200\n",
            "3/3 [==============================] - 0s 22ms/step - loss: 2.5287 - accuracy: 0.5625 - val_loss: 1.8741 - val_accuracy: 0.5990\n",
            "Epoch 118/200\n",
            "3/3 [==============================] - 0s 22ms/step - loss: 2.5285 - accuracy: 0.5625 - val_loss: 1.8739 - val_accuracy: 0.5990\n",
            "Epoch 119/200\n",
            "3/3 [==============================] - 0s 18ms/step - loss: 2.5283 - accuracy: 0.5573 - val_loss: 1.8738 - val_accuracy: 0.5990\n",
            "Epoch 120/200\n",
            "3/3 [==============================] - 0s 24ms/step - loss: 2.5279 - accuracy: 0.5573 - val_loss: 1.8736 - val_accuracy: 0.5990\n",
            "Epoch 121/200\n",
            "3/3 [==============================] - 0s 15ms/step - loss: 2.5277 - accuracy: 0.5573 - val_loss: 1.8735 - val_accuracy: 0.6042\n",
            "Epoch 122/200\n",
            "3/3 [==============================] - 0s 22ms/step - loss: 2.5274 - accuracy: 0.5573 - val_loss: 1.8733 - val_accuracy: 0.6094\n",
            "Epoch 123/200\n",
            "3/3 [==============================] - 0s 22ms/step - loss: 2.5273 - accuracy: 0.5573 - val_loss: 1.8732 - val_accuracy: 0.6094\n",
            "Epoch 124/200\n",
            "3/3 [==============================] - 0s 22ms/step - loss: 2.5270 - accuracy: 0.5573 - val_loss: 1.8730 - val_accuracy: 0.6094\n",
            "Epoch 125/200\n",
            "3/3 [==============================] - 0s 18ms/step - loss: 2.4429 - accuracy: 0.5573 - val_loss: 1.8728 - val_accuracy: 0.6094\n",
            "Epoch 126/200\n",
            "3/3 [==============================] - 0s 25ms/step - loss: 2.4426 - accuracy: 0.5573 - val_loss: 1.8727 - val_accuracy: 0.6094\n",
            "Epoch 127/200\n",
            "3/3 [==============================] - 0s 15ms/step - loss: 2.4423 - accuracy: 0.5625 - val_loss: 1.8725 - val_accuracy: 0.6094\n",
            "Epoch 128/200\n",
            "3/3 [==============================] - 0s 14ms/step - loss: 2.4420 - accuracy: 0.5625 - val_loss: 1.8724 - val_accuracy: 0.6094\n",
            "Epoch 129/200\n",
            "3/3 [==============================] - 0s 22ms/step - loss: 2.4418 - accuracy: 0.5625 - val_loss: 1.8722 - val_accuracy: 0.6094\n",
            "Epoch 130/200\n",
            "3/3 [==============================] - 0s 14ms/step - loss: 2.4416 - accuracy: 0.5625 - val_loss: 1.8721 - val_accuracy: 0.6094\n",
            "Epoch 131/200\n",
            "3/3 [==============================] - 0s 16ms/step - loss: 2.4414 - accuracy: 0.5625 - val_loss: 1.8719 - val_accuracy: 0.6094\n",
            "Epoch 132/200\n",
            "3/3 [==============================] - 0s 22ms/step - loss: 2.4411 - accuracy: 0.5625 - val_loss: 1.8717 - val_accuracy: 0.6094\n",
            "Epoch 133/200\n",
            "3/3 [==============================] - 0s 21ms/step - loss: 2.4408 - accuracy: 0.5625 - val_loss: 1.8716 - val_accuracy: 0.6094\n",
            "Epoch 134/200\n",
            "3/3 [==============================] - 0s 14ms/step - loss: 2.4406 - accuracy: 0.5625 - val_loss: 1.8714 - val_accuracy: 0.6094\n",
            "Epoch 135/200\n",
            "3/3 [==============================] - 0s 17ms/step - loss: 2.4403 - accuracy: 0.5625 - val_loss: 1.8713 - val_accuracy: 0.6094\n",
            "Epoch 136/200\n",
            "3/3 [==============================] - 0s 24ms/step - loss: 2.4400 - accuracy: 0.5625 - val_loss: 1.8711 - val_accuracy: 0.6094\n",
            "Epoch 137/200\n",
            "3/3 [==============================] - 0s 15ms/step - loss: 2.4398 - accuracy: 0.5625 - val_loss: 1.8710 - val_accuracy: 0.6094\n",
            "Epoch 138/200\n",
            "3/3 [==============================] - 0s 25ms/step - loss: 2.4396 - accuracy: 0.5625 - val_loss: 1.8709 - val_accuracy: 0.6094\n",
            "Epoch 139/200\n",
            "3/3 [==============================] - 0s 14ms/step - loss: 2.4393 - accuracy: 0.5625 - val_loss: 1.8707 - val_accuracy: 0.6094\n",
            "Epoch 140/200\n",
            "3/3 [==============================] - 0s 22ms/step - loss: 2.4390 - accuracy: 0.5625 - val_loss: 1.8706 - val_accuracy: 0.6094\n",
            "Epoch 141/200\n",
            "3/3 [==============================] - 0s 17ms/step - loss: 2.4388 - accuracy: 0.5625 - val_loss: 1.8704 - val_accuracy: 0.6094\n",
            "Epoch 142/200\n",
            "3/3 [==============================] - 0s 16ms/step - loss: 2.4385 - accuracy: 0.5625 - val_loss: 1.8703 - val_accuracy: 0.6094\n",
            "Epoch 143/200\n",
            "3/3 [==============================] - 0s 15ms/step - loss: 2.4381 - accuracy: 0.5625 - val_loss: 1.8702 - val_accuracy: 0.6094\n",
            "Epoch 144/200\n",
            "3/3 [==============================] - 0s 25ms/step - loss: 2.4379 - accuracy: 0.5625 - val_loss: 1.8700 - val_accuracy: 0.6094\n",
            "Epoch 145/200\n",
            "3/3 [==============================] - 0s 23ms/step - loss: 2.4377 - accuracy: 0.5625 - val_loss: 1.8699 - val_accuracy: 0.6042\n",
            "Epoch 146/200\n",
            "3/3 [==============================] - 0s 24ms/step - loss: 2.4374 - accuracy: 0.5625 - val_loss: 1.7858 - val_accuracy: 0.6042\n",
            "Epoch 147/200\n",
            "3/3 [==============================] - 0s 19ms/step - loss: 2.4371 - accuracy: 0.5625 - val_loss: 1.7856 - val_accuracy: 0.6042\n",
            "Epoch 148/200\n",
            "3/3 [==============================] - 0s 23ms/step - loss: 2.4369 - accuracy: 0.5625 - val_loss: 1.7855 - val_accuracy: 0.6042\n",
            "Epoch 149/200\n",
            "3/3 [==============================] - 0s 16ms/step - loss: 2.4365 - accuracy: 0.5625 - val_loss: 1.7854 - val_accuracy: 0.6042\n",
            "Epoch 150/200\n",
            "3/3 [==============================] - 0s 22ms/step - loss: 2.3523 - accuracy: 0.5625 - val_loss: 1.7852 - val_accuracy: 0.6042\n",
            "Epoch 151/200\n",
            "3/3 [==============================] - 0s 16ms/step - loss: 2.3520 - accuracy: 0.5573 - val_loss: 1.7851 - val_accuracy: 0.6042\n",
            "Epoch 152/200\n",
            "3/3 [==============================] - 0s 23ms/step - loss: 2.3517 - accuracy: 0.5625 - val_loss: 1.7849 - val_accuracy: 0.6042\n",
            "Epoch 153/200\n",
            "3/3 [==============================] - 0s 14ms/step - loss: 2.3514 - accuracy: 0.5625 - val_loss: 1.7848 - val_accuracy: 0.6042\n",
            "Epoch 154/200\n",
            "3/3 [==============================] - 0s 14ms/step - loss: 2.3511 - accuracy: 0.5625 - val_loss: 1.7846 - val_accuracy: 0.6042\n",
            "Epoch 155/200\n",
            "3/3 [==============================] - 0s 15ms/step - loss: 2.3507 - accuracy: 0.5677 - val_loss: 1.7845 - val_accuracy: 0.6042\n",
            "Epoch 156/200\n",
            "3/3 [==============================] - 0s 17ms/step - loss: 2.3505 - accuracy: 0.5677 - val_loss: 1.7843 - val_accuracy: 0.6042\n",
            "Epoch 157/200\n",
            "3/3 [==============================] - 0s 22ms/step - loss: 2.3501 - accuracy: 0.5677 - val_loss: 1.7842 - val_accuracy: 0.6042\n",
            "Epoch 158/200\n",
            "3/3 [==============================] - 0s 22ms/step - loss: 2.3499 - accuracy: 0.5677 - val_loss: 1.7001 - val_accuracy: 0.6042\n",
            "Epoch 159/200\n",
            "3/3 [==============================] - 0s 14ms/step - loss: 2.3495 - accuracy: 0.5677 - val_loss: 1.6999 - val_accuracy: 0.6042\n",
            "Epoch 160/200\n",
            "3/3 [==============================] - 0s 24ms/step - loss: 2.3493 - accuracy: 0.5677 - val_loss: 1.6997 - val_accuracy: 0.6042\n",
            "Epoch 161/200\n",
            "3/3 [==============================] - 0s 23ms/step - loss: 2.3491 - accuracy: 0.5677 - val_loss: 1.6996 - val_accuracy: 0.6042\n",
            "Epoch 162/200\n",
            "3/3 [==============================] - 0s 13ms/step - loss: 2.3489 - accuracy: 0.5677 - val_loss: 1.6995 - val_accuracy: 0.6042\n",
            "Epoch 163/200\n",
            "3/3 [==============================] - 0s 14ms/step - loss: 2.3488 - accuracy: 0.5677 - val_loss: 1.6994 - val_accuracy: 0.6042\n",
            "Epoch 164/200\n",
            "3/3 [==============================] - 0s 23ms/step - loss: 2.3486 - accuracy: 0.5677 - val_loss: 1.6993 - val_accuracy: 0.6042\n",
            "Epoch 165/200\n",
            "3/3 [==============================] - 0s 22ms/step - loss: 2.3486 - accuracy: 0.5677 - val_loss: 1.6992 - val_accuracy: 0.6042\n",
            "Epoch 166/200\n",
            "3/3 [==============================] - 0s 16ms/step - loss: 2.3484 - accuracy: 0.5677 - val_loss: 1.6991 - val_accuracy: 0.6042\n",
            "Epoch 167/200\n",
            "3/3 [==============================] - 0s 22ms/step - loss: 2.3482 - accuracy: 0.5677 - val_loss: 1.6990 - val_accuracy: 0.6042\n",
            "Epoch 168/200\n",
            "3/3 [==============================] - 0s 19ms/step - loss: 2.2643 - accuracy: 0.5677 - val_loss: 1.6989 - val_accuracy: 0.6042\n",
            "Epoch 169/200\n",
            "3/3 [==============================] - 0s 23ms/step - loss: 2.2641 - accuracy: 0.5677 - val_loss: 1.6988 - val_accuracy: 0.6042\n",
            "Epoch 170/200\n",
            "3/3 [==============================] - 0s 14ms/step - loss: 2.2640 - accuracy: 0.5677 - val_loss: 1.6987 - val_accuracy: 0.6042\n",
            "Epoch 171/200\n",
            "3/3 [==============================] - 0s 13ms/step - loss: 2.2638 - accuracy: 0.5677 - val_loss: 1.6986 - val_accuracy: 0.6042\n",
            "Epoch 172/200\n",
            "3/3 [==============================] - 0s 22ms/step - loss: 2.3476 - accuracy: 0.5677 - val_loss: 1.6985 - val_accuracy: 0.6042\n",
            "Epoch 173/200\n",
            "3/3 [==============================] - 0s 17ms/step - loss: 2.3475 - accuracy: 0.5677 - val_loss: 1.6984 - val_accuracy: 0.6042\n",
            "Epoch 174/200\n",
            "3/3 [==============================] - 0s 23ms/step - loss: 2.3473 - accuracy: 0.5677 - val_loss: 1.6983 - val_accuracy: 0.6042\n",
            "Epoch 175/200\n",
            "3/3 [==============================] - 0s 22ms/step - loss: 2.3472 - accuracy: 0.5677 - val_loss: 1.6982 - val_accuracy: 0.6042\n",
            "Epoch 176/200\n",
            "3/3 [==============================] - 0s 23ms/step - loss: 2.3470 - accuracy: 0.5677 - val_loss: 1.6981 - val_accuracy: 0.6042\n",
            "Epoch 177/200\n",
            "3/3 [==============================] - 0s 18ms/step - loss: 2.3468 - accuracy: 0.5677 - val_loss: 1.6980 - val_accuracy: 0.6042\n",
            "Epoch 178/200\n",
            "3/3 [==============================] - 0s 14ms/step - loss: 2.3466 - accuracy: 0.5677 - val_loss: 1.6978 - val_accuracy: 0.6042\n",
            "Epoch 179/200\n",
            "3/3 [==============================] - 0s 24ms/step - loss: 2.3464 - accuracy: 0.5677 - val_loss: 1.6977 - val_accuracy: 0.6042\n",
            "Epoch 180/200\n",
            "3/3 [==============================] - 0s 22ms/step - loss: 2.3462 - accuracy: 0.5677 - val_loss: 1.6976 - val_accuracy: 0.6042\n",
            "Epoch 181/200\n",
            "3/3 [==============================] - 0s 26ms/step - loss: 2.3460 - accuracy: 0.5677 - val_loss: 1.6975 - val_accuracy: 0.6094\n",
            "Epoch 182/200\n",
            "3/3 [==============================] - 0s 15ms/step - loss: 2.3458 - accuracy: 0.5677 - val_loss: 1.6973 - val_accuracy: 0.6094\n",
            "Epoch 183/200\n",
            "3/3 [==============================] - 0s 14ms/step - loss: 2.3454 - accuracy: 0.5677 - val_loss: 1.6972 - val_accuracy: 0.6094\n",
            "Epoch 184/200\n",
            "3/3 [==============================] - 0s 15ms/step - loss: 2.3453 - accuracy: 0.5677 - val_loss: 1.6971 - val_accuracy: 0.6094\n",
            "Epoch 185/200\n",
            "3/3 [==============================] - 0s 22ms/step - loss: 2.3453 - accuracy: 0.5677 - val_loss: 1.6970 - val_accuracy: 0.6042\n",
            "Epoch 186/200\n",
            "3/3 [==============================] - 0s 23ms/step - loss: 2.3452 - accuracy: 0.5677 - val_loss: 1.6969 - val_accuracy: 0.6042\n",
            "Epoch 187/200\n",
            "3/3 [==============================] - 0s 15ms/step - loss: 2.3452 - accuracy: 0.5677 - val_loss: 1.6969 - val_accuracy: 0.6042\n",
            "Epoch 188/200\n",
            "3/3 [==============================] - 0s 18ms/step - loss: 2.3451 - accuracy: 0.5677 - val_loss: 1.6968 - val_accuracy: 0.6042\n",
            "Epoch 189/200\n",
            "3/3 [==============================] - 0s 15ms/step - loss: 2.3451 - accuracy: 0.5677 - val_loss: 1.6967 - val_accuracy: 0.6042\n",
            "Epoch 190/200\n",
            "3/3 [==============================] - 0s 14ms/step - loss: 2.3450 - accuracy: 0.5677 - val_loss: 1.6967 - val_accuracy: 0.6042\n",
            "Epoch 191/200\n",
            "3/3 [==============================] - 0s 13ms/step - loss: 2.3450 - accuracy: 0.5677 - val_loss: 1.6966 - val_accuracy: 0.6042\n",
            "Epoch 192/200\n",
            "3/3 [==============================] - 0s 16ms/step - loss: 2.2610 - accuracy: 0.5677 - val_loss: 1.6966 - val_accuracy: 0.6042\n",
            "Epoch 193/200\n",
            "3/3 [==============================] - 0s 14ms/step - loss: 2.2610 - accuracy: 0.5677 - val_loss: 1.6965 - val_accuracy: 0.6042\n",
            "Epoch 194/200\n",
            "3/3 [==============================] - 0s 14ms/step - loss: 2.2610 - accuracy: 0.5677 - val_loss: 1.6965 - val_accuracy: 0.5990\n",
            "Epoch 195/200\n",
            "3/3 [==============================] - 0s 21ms/step - loss: 2.2609 - accuracy: 0.5625 - val_loss: 1.6964 - val_accuracy: 0.5990\n",
            "Epoch 196/200\n",
            "3/3 [==============================] - 0s 23ms/step - loss: 2.2609 - accuracy: 0.5625 - val_loss: 1.6963 - val_accuracy: 0.5990\n",
            "Epoch 197/200\n",
            "3/3 [==============================] - 0s 23ms/step - loss: 2.2608 - accuracy: 0.5625 - val_loss: 1.6963 - val_accuracy: 0.5990\n",
            "Epoch 198/200\n",
            "3/3 [==============================] - 0s 16ms/step - loss: 2.2608 - accuracy: 0.5625 - val_loss: 1.6962 - val_accuracy: 0.5990\n",
            "Epoch 199/200\n",
            "3/3 [==============================] - 0s 16ms/step - loss: 2.2608 - accuracy: 0.5625 - val_loss: 1.6962 - val_accuracy: 0.5990\n",
            "Epoch 200/200\n",
            "3/3 [==============================] - 0s 16ms/step - loss: 2.2607 - accuracy: 0.5625 - val_loss: 1.6961 - val_accuracy: 0.5990\n"
          ]
        }
      ]
    },
    {
      "cell_type": "markdown",
      "metadata": {
        "id": "EH9IZizVZfKB"
      },
      "source": [
        "**8. Model Creation**"
      ]
    },
    {
      "cell_type": "code",
      "metadata": {
        "colab": {
          "base_uri": "https://localhost:8080/"
        },
        "id": "hNfmvbMOXeku",
        "outputId": "61237397-215f-48db-c0ad-fa286cfaae6a"
      },
      "source": [
        "from keras.models import Sequential\n",
        "from keras.layers import Dense\n",
        "\n",
        "# Creating the model\n",
        "model = Sequential()\n",
        "model.add(Dense(12, input_shape=(8,), activation='tanh'))\n",
        "model.add(Dense(8, activation='tanh'))\n",
        "model.add(Dense(2, activation='tanh'))\n",
        "model.summary()   #gives a summary of the model"
      ],
      "execution_count": 34,
      "outputs": [
        {
          "output_type": "stream",
          "name": "stdout",
          "text": [
            "Model: \"sequential_2\"\n",
            "_________________________________________________________________\n",
            " Layer (type)                Output Shape              Param #   \n",
            "=================================================================\n",
            " dense_6 (Dense)             (None, 12)                108       \n",
            "                                                                 \n",
            " dense_7 (Dense)             (None, 8)                 104       \n",
            "                                                                 \n",
            " dense_8 (Dense)             (None, 2)                 18        \n",
            "                                                                 \n",
            "=================================================================\n",
            "Total params: 230\n",
            "Trainable params: 230\n",
            "Non-trainable params: 0\n",
            "_________________________________________________________________\n"
          ]
        }
      ]
    },
    {
      "cell_type": "markdown",
      "metadata": {
        "id": "iYxZHI_EZiEF"
      },
      "source": [
        "**9. Model Compile**"
      ]
    },
    {
      "cell_type": "code",
      "metadata": {
        "id": "plF2qlxwXiIY"
      },
      "source": [
        "from tensorflow.keras import optimizers\n",
        "opt=optimizers.Adam(learning_rate=0.001)\n",
        "model.compile(loss='categorical_crossentropy', optimizer=opt, metrics=['accuracy'])"
      ],
      "execution_count": 37,
      "outputs": []
    },
    {
      "cell_type": "markdown",
      "metadata": {
        "id": "E8VrUFVQZkNd"
      },
      "source": [
        "**10. Model Training**"
      ]
    },
    {
      "cell_type": "markdown",
      "source": [
        "if you have 1000 training examples, and your batch size is  500, then it will take 2 iterations to complete 1 epoch."
      ],
      "metadata": {
        "id": "08Ul5lN90_Sp"
      }
    },
    {
      "cell_type": "code",
      "source": [
        ""
      ],
      "metadata": {
        "id": "B6hnjGhYP-NG"
      },
      "execution_count": 37,
      "outputs": []
    },
    {
      "cell_type": "markdown",
      "metadata": {
        "id": "80o1i3fzZsA-"
      },
      "source": [
        "**11. Plot the training loss and accuracy**"
      ]
    },
    {
      "cell_type": "code",
      "source": [
        "import matplotlib.pyplot as plt \n",
        "acc = hist.history['accuracy']\n",
        "val_acc = hist.history['val_accuracy']\n",
        "loss = hist.history['loss']\n",
        "val_loss = hist.history['val_loss']\n",
        " \n",
        "epochs = range(len(acc))\n",
        " \n",
        "plt.plot(epochs, acc, 'b', label='Training acc')\n",
        "plt.plot(epochs, val_acc, 'r', label='Validation acc')\n",
        "plt.title('Training and validation accuracy')\n",
        "plt.legend()\n",
        "plt.savefig('custom_trainvalacc.png')\n",
        "plt.figure()\n",
        " \n",
        "plt.plot(epochs, loss, 'b', label='Training loss')\n",
        "plt.plot(epochs, val_loss, 'r', label='Validation loss')\n",
        "plt.title('Training and validation loss')\n",
        "plt.legend()\n",
        " \n",
        "#plt.show()\n",
        "plt.savefig('custom_trainvalloss.png')\n",
        "plt.figure()"
      ],
      "metadata": {
        "colab": {
          "base_uri": "https://localhost:8080/",
          "height": 580
        },
        "id": "69dOEi6HAiXT",
        "outputId": "67e2e850-fa27-422c-ea99-95aa4c68bcc3"
      },
      "execution_count": 38,
      "outputs": [
        {
          "output_type": "execute_result",
          "data": {
            "text/plain": [
              "<Figure size 432x288 with 0 Axes>"
            ]
          },
          "metadata": {},
          "execution_count": 38
        },
        {
          "output_type": "display_data",
          "data": {
            "text/plain": [
              "<Figure size 432x288 with 1 Axes>"
            ],
            "image/png": "[encoded data removed]"
          },
          "metadata": {
            "needs_background": "light"
          }
        },
        {
          "output_type": "display_data",
          "data": {
            "text/plain": [
              "<Figure size 432x288 with 1 Axes>"
            ],
            "image/png": "[encoded data removed]"
          },
          "metadata": {
            "needs_background": "light"
          }
        },
        {
          "output_type": "display_data",
          "data": {
            "text/plain": [
              "<Figure size 432x288 with 0 Axes>"
            ]
          },
          "metadata": {}
        }
      ]
    },
    {
      "cell_type": "markdown",
      "metadata": {
        "id": "a8fUXoqeZvwf"
      },
      "source": [
        "**12. Evaluate the performance**"
      ]
    },
    {
      "cell_type": "code",
      "metadata": {
        "colab": {
          "base_uri": "https://localhost:8080/"
        },
        "id": "wawHhkURYMLE",
        "outputId": "ad3f55cf-19c8-4723-9413-f4f033ad9df4"
      },
      "source": [
        "res =model.evaluate(X_testing, Y_testing)"
      ],
      "execution_count": null,
      "outputs": [
        {
          "output_type": "stream",
          "name": "stdout",
          "text": [
            "5/5 [==============================] - 0s 3ms/step - loss: 0.6604 - accuracy: 0.6169\n"
          ]
        }
      ]
    },
    {
      "cell_type": "markdown",
      "metadata": {
        "id": "0WCSw36oZyG_"
      },
      "source": [
        "**13. Predict on new datatset**\n"
      ]
    },
    {
      "cell_type": "code",
      "metadata": {
        "colab": {
          "base_uri": "https://localhost:8080/"
        },
        "id": "CcE27mGFYo3G",
        "outputId": "0c3aefb0-7c62-4a7b-e51e-31e574e6630d"
      },
      "source": [
        "test=X_testing[0]\n",
        "y_act=Y_testing[0]\n",
        "result=model.predict(test.reshape(1,8))\n",
        "result"
      ],
      "execution_count": null,
      "outputs": [
        {
          "output_type": "execute_result",
          "data": {
            "text/plain": [
              "array([[0.5559551, 0.4440449]], dtype=float32)"
            ]
          },
          "metadata": {},
          "execution_count": 28
        }
      ]
    },
    {
      "cell_type": "code",
      "metadata": {
        "colab": {
          "base_uri": "https://localhost:8080/"
        },
        "id": "T4RDC-ZHYqv_",
        "outputId": "37bfaf93-01c4-4dc7-8cc8-340ca70f52d4"
      },
      "source": [
        "import numpy as np\n",
        "y_pred = np.round(result)\n",
        "print(\"Actual:\"+ str(y_act))\n",
        "print(\"Predicted:\"+str(y_pred))"
      ],
      "execution_count": null,
      "outputs": [
        {
          "output_type": "stream",
          "name": "stdout",
          "text": [
            "Actual:[1. 0.]\n",
            "Predicted:[[1. 0.]]\n"
          ]
        }
      ]
    },
    {
      "cell_type": "markdown",
      "metadata": {
        "id": "E9mMqJtXYz2Q"
      },
      "source": [
        "**Reference:** - https://keras.io/"
      ]
    }
  ]
}